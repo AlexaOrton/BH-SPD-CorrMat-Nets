{
 "cells": [
  {
   "cell_type": "markdown",
   "id": "617ace04",
   "metadata": {},
   "source": [
    "## Saving real data for matlab "
   ]
  },
  {
   "cell_type": "markdown",
   "id": "a01bb3c8",
   "metadata": {},
   "source": [
    "Copy rally_mats_synth, etc. from the spdtorch-untouched folder to U-SPDNet and rename 1, 2, 3"
   ]
  },
  {
   "cell_type": "code",
   "execution_count": 2,
   "id": "181e008d",
   "metadata": {},
   "outputs": [
    {
     "name": "stdout",
     "output_type": "stream",
     "text": [
      "Data distribution complete.\n"
     ]
    }
   ],
   "source": [
    "import os\n",
    "import shutil\n",
    "import random\n",
    "\n",
    "# Function to create subdirectories and distribute files\n",
    "def distribute_files(src_folder, dst_folder, distribution_ratio):\n",
    "    files = os.listdir(src_folder)\n",
    "    random.shuffle(files)  # Shuffle to randomly select files\n",
    "\n",
    "    # Calculate split index\n",
    "    split_index = int(len(files) * distribution_ratio)\n",
    "\n",
    "    # Distribute files\n",
    "    for file in files[:split_index]:\n",
    "        shutil.copy(os.path.join(src_folder, file), os.path.join(dst_folder, 'train', src_folder))\n",
    "    for file in files[split_index:]:\n",
    "        shutil.copy(os.path.join(src_folder, file), os.path.join(dst_folder, 'val', src_folder))\n",
    "\n",
    "# Main directory and subdirectories\n",
    "# NB choose either UAV_CONV or UAV_CONV_synth depending on which data is being used\n",
    "main_dir = 'UAV_CONV'\n",
    "sub_dirs = ['1', '2', '3']\n",
    "\n",
    "# Create main directory and subdirectories\n",
    "os.makedirs(main_dir, exist_ok=True)\n",
    "os.makedirs(os.path.join(main_dir, 'train'), exist_ok=True)\n",
    "os.makedirs(os.path.join(main_dir, 'val'), exist_ok=True)\n",
    "\n",
    "# Create subdirectories inside 'train' and 'val'\n",
    "for sub_dir in sub_dirs:\n",
    "    os.makedirs(os.path.join(main_dir, 'train', sub_dir), exist_ok=True)\n",
    "    os.makedirs(os.path.join(main_dir, 'val', sub_dir), exist_ok=True)\n",
    "\n",
    "# Distribution ratio\n",
    "ratio = 0.75  # 75% for training\n",
    "\n",
    "# Process each folder\n",
    "for folder in sub_dirs:\n",
    "    distribute_files(folder, main_dir, ratio)\n",
    "\n",
    "print(\"Data distribution complete.\")\n"
   ]
  },
  {
   "cell_type": "markdown",
   "id": "2dc60307",
   "metadata": {},
   "source": [
    "Copy and paste the UAV_CONV(_synth) to the afew folder inside data"
   ]
  },
  {
   "cell_type": "code",
   "execution_count": 5,
   "id": "1a26c0cb",
   "metadata": {},
   "outputs": [
    {
     "name": "stdout",
     "output_type": "stream",
     "text": [
      "Conversion from .npy to .mat completed for /Users/alexa/Documents/MATLAB/U-SPDNet/data/afew/UAV_CONV/val/3.\n",
      "Conversion from .npy to .mat completed for /Users/alexa/Documents/MATLAB/U-SPDNet/data/afew/UAV_CONV_synth/val/1.\n",
      "Conversion from .npy to .mat completed for /Users/alexa/Documents/MATLAB/U-SPDNet/data/afew/UAV_CONV_synth/val/2.\n",
      "Conversion from .npy to .mat completed for /Users/alexa/Documents/MATLAB/U-SPDNet/data/afew/UAV_CONV/train/3.\n",
      "Conversion from .npy to .mat completed for /Users/alexa/Documents/MATLAB/U-SPDNet/data/afew/UAV_CONV/train/1.\n",
      "Conversion from .npy to .mat completed for /Users/alexa/Documents/MATLAB/U-SPDNet/data/afew/UAV_CONV/train/2.\n"
     ]
    }
   ],
   "source": [
    "import numpy as np\n",
    "import scipy.io as sio\n",
    "import os\n",
    "\n",
    "def convert_npy_to_mat(source_directory, destination_directory):\n",
    "    \"\"\"\n",
    "    Convert all .npy files in the source directory to .mat files and save them in the destination directory.\n",
    "\n",
    "    Parameters:\n",
    "    source_directory (str): The path to the directory containing .npy files.\n",
    "    destination_directory (str): The path to the directory where .mat files will be saved.\n",
    "    \"\"\"\n",
    "    # Ensure the destination directory exists\n",
    "    if not os.path.exists(destination_directory):\n",
    "        os.makedirs(destination_directory)\n",
    "\n",
    "    # Iterate over all files in the source directory\n",
    "    for file in os.listdir(source_directory):\n",
    "        # Check for .npy extension\n",
    "        if file.endswith('.npy'):\n",
    "            # Load the .npy file\n",
    "            data = np.load(os.path.join(source_directory, file))\n",
    "\n",
    "            # Define the .mat file name\n",
    "            mat_file_name = file.replace('.npy', '.mat')\n",
    "\n",
    "            # Define the full path for the .mat file\n",
    "            mat_file_path = os.path.join(destination_directory, mat_file_name)\n",
    "\n",
    "            # Save the .mat file\n",
    "            sio.savemat(mat_file_path, {'data': data})\n",
    "    \n",
    "    print(f'Conversion from .npy to .mat completed for {source_directory}.')\n",
    "\n",
    "# Example usage: for synthetic data\n",
    "# convert_npy_to_mat('/Users/alexa/Documents/MATLAB/U-SPDNet/data/afew/UAV_CONV_synth/val/3', '/Users/alexa/Documents/MATLAB/U-SPDNet/data/afew/UAV_CONV_mat/val/3')\n",
    "# convert_npy_to_mat('/Users/alexa/Documents/MATLAB/U-SPDNet/data/afew/UAV_CONV_synth/val/1', '/Users/alexa/Documents/MATLAB/U-SPDNet/data/afew/UAV_CONV_mat/val/1')\n",
    "# convert_npy_to_mat('/Users/alexa/Documents/MATLAB/U-SPDNet/data/afew/UAV_CONV_synth/val/2', '/Users/alexa/Documents/MATLAB/U-SPDNet/data/afew/UAV_CONV_mat/val/2')\n",
    "\n",
    "# convert_npy_to_mat('/Users/alexa/Documents/MATLAB/U-SPDNet/data/afew/UAV_CONV_synth/train/3', '/Users/alexa/Documents/MATLAB/U-SPDNet/data/afew/UAV_CONV_mat/train/3')\n",
    "# convert_npy_to_mat('/Users/alexa/Documents/MATLAB/U-SPDNet/data/afew/UAV_CONV_synth/train/1', '/Users/alexa/Documents/MATLAB/U-SPDNet/data/afew/UAV_CONV_mat/train/1')\n",
    "# convert_npy_to_mat('/Users/alexa/Documents/MATLAB/U-SPDNet/data/afew/UAV_CONV_synth/train/2', '/Users/alexa/Documents/MATLAB/U-SPDNet/data/afew/UAV_CONV_mat/train/2')\n",
    "\n",
    "\n",
    "# Example usage:\n",
    "convert_npy_to_mat('/Users/alexa/Documents/MATLAB/U-SPDNet/data/afew/UAV_CONV/val/3', '/Users/alexa/Documents/MATLAB/U-SPDNet/data/afew/UAV_CONV_mat/val/3')\n",
    "convert_npy_to_mat('/Users/alexa/Documents/MATLAB/U-SPDNet/data/afew/UAV_CONV_synth/val/1', '/Users/alexa/Documents/MATLAB/U-SPDNet/data/afew/UAV_CONV_mat/val/1')\n",
    "convert_npy_to_mat('/Users/alexa/Documents/MATLAB/U-SPDNet/data/afew/UAV_CONV_synth/val/2', '/Users/alexa/Documents/MATLAB/U-SPDNet/data/afew/UAV_CONV_mat/val/2')\n",
    "\n",
    "convert_npy_to_mat('/Users/alexa/Documents/MATLAB/U-SPDNet/data/afew/UAV_CONV/train/3', '/Users/alexa/Documents/MATLAB/U-SPDNet/data/afew/UAV_CONV_mat/train/3')\n",
    "convert_npy_to_mat('/Users/alexa/Documents/MATLAB/U-SPDNet/data/afew/UAV_CONV/train/1', '/Users/alexa/Documents/MATLAB/U-SPDNet/data/afew/UAV_CONV_mat/train/1')\n",
    "convert_npy_to_mat('/Users/alexa/Documents/MATLAB/U-SPDNet/data/afew/UAV_CONV/train/2', '/Users/alexa/Documents/MATLAB/U-SPDNet/data/afew/UAV_CONV_mat/train/2')\n"
   ]
  },
  {
   "cell_type": "markdown",
   "id": "bee20d90",
   "metadata": {},
   "source": [
    "Now remove the _mat from the UAV_CONV_mat folder and remove the original folder with .py entries"
   ]
  },
  {
   "cell_type": "code",
   "execution_count": 6,
   "id": "af77a909",
   "metadata": {},
   "outputs": [
    {
     "data": {
      "text/plain": [
       "'./data/afew/sample_for_SPDNet_UAV.mat'"
      ]
     },
     "execution_count": 6,
     "metadata": {},
     "output_type": "execute_result"
    }
   ],
   "source": [
    "import os\n",
    "import numpy as np\n",
    "from scipy.io import savemat\n",
    "\n",
    "# Paths to the UAV_CONV dataset\n",
    "dataset_path = '/Users/alexa/Documents/MATLAB/U-SPDNet/data/afew/UAV_CONV'\n",
    "train_path = os.path.join(dataset_path, 'train')\n",
    "val_path = os.path.join(dataset_path, 'val')\n",
    "\n",
    "# Initialize lists to hold the data\n",
    "names = []\n",
    "ids = []\n",
    "sets = []\n",
    "labels = []\n",
    "\n",
    "# Function to process each folder and collect data\n",
    "def process_folder(path, set_value, label_value):\n",
    "    for file in os.listdir(path):\n",
    "        file_path = os.path.join(path, file)\n",
    "        if os.path.isfile(file_path):\n",
    "            # Assuming file names are unique identifiers for 'id'\n",
    "            matrix_id = int(file.split('_')[1].split('.')[0])\n",
    "#             matrix_name = f\"./UAV_CONV/{set_name}/{label_value}/{file}\"\n",
    "            names.append(f'{file_path}')\n",
    "            ids.append(matrix_id)\n",
    "            sets.append(set_value)\n",
    "            labels.append(label_value)\n",
    "\n",
    "# Process each class folder for train and val\n",
    "for label in ('1', '2', '3'):\n",
    "    process_folder(os.path.join(train_path, label), 1, int(label))  # Train set is indicated by 1\n",
    "    process_folder(os.path.join(val_path, label), 2, int(label))   # Val set is indicated by 2\n",
    "\n",
    "# Convert lists to numpy arrays with the correct type and shape\n",
    "names = np.array(names, dtype=object)  # For strings, use object type to ensure MATLAB cell array\n",
    "ids = np.array(ids, dtype=np.float64).reshape(1, -1)  # Shape as a row vector\n",
    "sets = np.array(sets, dtype=np.float64).reshape(1, -1)  # Shape as a row vector\n",
    "labels = np.array(labels, dtype=np.float64).reshape(1, -1)  # Shape as a row vector\n",
    "\n",
    "# Create the structure with the correct MATLAB equivalent types\n",
    "spd_structure = {\n",
    "    'spd': {\n",
    "        'name': names,\n",
    "        'id': ids,\n",
    "        'set': sets,\n",
    "        'label': labels\n",
    "    },\n",
    "    'SpdDir': np.array(['./data/afew/UAV_COV'], dtype=object)\n",
    "}\n",
    "\n",
    "# Save to a .mat file ensuring the variables are saved as doubles and with compression\n",
    "matfile_path = './data/afew/sample_for_SPDNet_UAV.mat'\n",
    "savemat(matfile_path, {'spd_train': spd_structure}, do_compression=True)\n",
    "\n",
    "matfile_path\n",
    "\n"
   ]
  },
  {
   "cell_type": "code",
   "execution_count": null,
   "id": "0081edbc",
   "metadata": {},
   "outputs": [],
   "source": []
  }
 ],
 "metadata": {
  "kernelspec": {
   "display_name": "Python 3 (ipykernel)",
   "language": "python",
   "name": "python3"
  },
  "language_info": {
   "codemirror_mode": {
    "name": "ipython",
    "version": 3
   },
   "file_extension": ".py",
   "mimetype": "text/x-python",
   "name": "python",
   "nbconvert_exporter": "python",
   "pygments_lexer": "ipython3",
   "version": "3.8.5"
  }
 },
 "nbformat": 4,
 "nbformat_minor": 5
}
